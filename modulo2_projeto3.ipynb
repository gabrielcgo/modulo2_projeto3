{
  "cells": [
    {
      "cell_type": "markdown",
      "metadata": {
        "id": "view-in-github",
        "colab_type": "text"
      },
      "source": [
        "<a href=\"https://colab.research.google.com/github/gabrielcgo/modulo2_projeto3/blob/main/modulo2_projeto3.ipynb\" target=\"_parent\"><img src=\"https://colab.research.google.com/assets/colab-badge.svg\" alt=\"Open In Colab\"/></a>"
      ]
    },
    {
      "cell_type": "markdown",
      "metadata": {
        "id": "oNeE3d4ISzfI"
      },
      "source": [
        "# Projeto 3 - Clusterização de dados de vendas de produtos\n",
        "## Wholesale customers Data Set - UCI"
      ]
    },
    {
      "cell_type": "markdown",
      "metadata": {
        "id": "kKClDDYwSzfL"
      },
      "source": [
        "## Introdução"
      ]
    },
    {
      "cell_type": "markdown",
      "metadata": {
        "id": "BaPIHg5ASzfM"
      },
      "source": [
        "O conjunto de dados de vendas esta localizado na plataforma UCI no seguinte link - https://archive.ics.uci.edu/ml/datasets/Wholesale+customers. Este é um conjunto de dados que não possui rotulo, o nosso desafio será agrupar essas vendas em grupos e avaliar estes grupos.\n",
        "\n",
        "Segue a descrição das variaveis:\n",
        "- FRESH: gastos anuais em produtos frescos\n",
        "- MILK: gastos anuais em produtos lácteos\n",
        "- GROCERY: gastos anuais em produtos de mercearia\n",
        "- FROZEN: gastos anuais em produtos congelados\n",
        "- DETERGENTS_PAPER: gastos anuais em detergentes e produtos de papel\n",
        "- DELICATESSEN: gastos anuais em produtos artesanais (queijos, vinhos, doces)\n",
        "- CHANNEL: origem do cliente - Horeca (Hotel/Restaurante/Café) (1) ou canais de varejo (2)\n",
        "- REGION: região do cliente Lisbon (1), Oporto (2) or Other Region (3)\n",
        "\n",
        "#### referencia: \n",
        "Abreu, N. (2011). Analise do perfil do cliente Recheio e desenvolvimento de um sistema promocional. Mestrado em Marketing, ISCTE-IUL, Lisbon"
      ]
    },
    {
      "cell_type": "markdown",
      "metadata": {
        "id": "FuywovnqSzfM"
      },
      "source": [
        "# Sobre este projeto\n",
        "\n",
        "Neste projeto treine os conhecimentos aprendidos até o momento e que entenda algumas das dificuldades que pode ter quando for aplicar os mesmos. \n",
        "\n",
        "Os principais pontos que serão avaliados:\n",
        "\n",
        "- Levantamento de hipoteses\n",
        "- Manipulação de dados e criação de gráficos simples com o `Pandas`\n",
        "- Criar um modelo clusterização e justificar"
      ]
    },
    {
      "cell_type": "markdown",
      "metadata": {
        "id": "WI4WjR3gSzfM"
      },
      "source": [
        "# Preparação do ambiente\n",
        "\n",
        "- Acessem o link - https://archive.ics.uci.edu/ml/machine-learning-databases/00292/Wholesale%20customers%20data.csv e faça o download do conjunto de dados."
      ]
    },
    {
      "cell_type": "markdown",
      "metadata": {
        "id": "RDO727wgSzfN"
      },
      "source": [
        "# Exercicio 1. (3.0 pontos)\n",
        "\n",
        "Faça um gráfico de cotovelo, quantos clusters aproximadamente melhor separam este conjunto de dados informado pelo grafico de cotovelo?"
      ]
    },
    {
      "cell_type": "code",
      "execution_count": 1,
      "metadata": {
        "id": "gwDbgzAdSzfN"
      },
      "outputs": [],
      "source": [
        "#### VALE 0.5 pontos\n",
        "#### CONSTRUA OS SEUS GRAFICOS ABAIXO, USE MAIS CELULAS SE NECESSARIO\n",
        "\n",
        "import pandas as pd\n",
        "import numpy as np\n",
        "\n",
        "import seaborn as sns\n",
        "import matplotlib.pyplot as plt\n",
        "\n",
        "from sklearn.preprocessing import StandardScaler\n",
        "from sklearn.cluster import KMeans\n",
        "from scipy.cluster import hierarchy\n",
        "from sklearn.cluster import AgglomerativeClustering"
      ]
    },
    {
      "cell_type": "code",
      "source": [
        "df = pd.read_csv('Wholesale customers data.csv')\n",
        "df.head(10)"
      ],
      "metadata": {
        "id": "TD-NJ1YyTMYs"
      },
      "execution_count": null,
      "outputs": []
    },
    {
      "cell_type": "code",
      "source": [
        "df = df.replace({'?': np.nan})\n",
        "df = df.dropna()\n",
        "df.info()"
      ],
      "metadata": {
        "id": "YkHbgrVZTR-p"
      },
      "execution_count": null,
      "outputs": []
    },
    {
      "cell_type": "code",
      "source": [
        "X = df\n",
        "X_std = StandardScaler().fit_transform(X)\n",
        "\n",
        "inertias = []\n",
        "sizes = range(2, 10)\n",
        "for k in sizes:\n",
        "    k2 = KMeans(random_state=42, n_clusters=k)\n",
        "    k2.fit(X)\n",
        "    inertias.append(k2.inertia_)\n",
        "\n",
        "sns.set_style('darkgrid')\n",
        "fig, ax = plt.subplots(figsize=(7, 5))\n",
        "\n",
        "pd.Series(inertias, index=sizes).plot(ax=ax, marker='o')\n",
        "\n",
        "ax.set_title('Grafico de cotovelo', loc='left', fontsize=18)\n",
        "ax.set_xlabel('K', fontsize=14)\n",
        "ax.set_ylabel('Inertia', fontsize=14)\n",
        "\n",
        "plt.show()"
      ],
      "metadata": {
        "colab": {
          "base_uri": "https://localhost:8080/",
          "height": 358
        },
        "id": "6AsyQ9eRTUV_",
        "outputId": "c6b8bfc1-2459-4d1e-979e-af766e1ffe4d"
      },
      "execution_count": 4,
      "outputs": [
        {
          "output_type": "display_data",
          "data": {
            "text/plain": [
              "<Figure size 504x360 with 1 Axes>"
            ],
            "image/png": "[encoded data removed]"
          },
          "metadata": {}
        }
      ]
    },
    {
      "cell_type": "markdown",
      "metadata": {
        "id": "EiojZ8b6SzfO"
      },
      "source": [
        "**RESPOSTA** (VALE 1.0 ponto): (responda aqui, dê dois cliques para editar. Esta célula de texto esta escrito em Markdown, para renderizar o texto execute a célula com **Shift+Enter**)\n",
        "\n",
        "Aproximadamente 4 à 5 clusters, que é onde está sendo a quebra da curva, apesar desta estar bem suavizada. Optei por 4 clusters pois fez mais sentido."
      ]
    },
    {
      "cell_type": "markdown",
      "metadata": {
        "id": "oBvCz32KSzfP"
      },
      "source": [
        "Construa um modelo de **clusterização K-Médias** usando o melhor numero de clusters informado pelo gráfico de cotovelo e usem o parametro **random_state** com valor 10."
      ]
    },
    {
      "cell_type": "code",
      "execution_count": 5,
      "metadata": {
        "id": "PznrPQEsSzfP"
      },
      "outputs": [],
      "source": [
        "#### VALE 0.5 pontos\n",
        "#### EXECUTE OS COMANDOS ABAIXO, USE MAIS CELULAS SE NECESSARIO\n",
        "\n",
        "km = KMeans(n_clusters=4, random_state=10).fit(X_std)\n",
        "y_pred = km.predict(X_std)"
      ]
    },
    {
      "cell_type": "markdown",
      "metadata": {
        "id": "hVebVHZBSzfP"
      },
      "source": [
        "Adicione o resultado da clusterização no conjunto de dados original, chame essa nova variavel de **cluster** e conte quantas observações há em cada cluster e preencha:"
      ]
    },
    {
      "cell_type": "code",
      "execution_count": 6,
      "metadata": {
        "id": "NyH0w7u_SzfQ"
      },
      "outputs": [],
      "source": [
        "#### VALE 0.5 pontos\n",
        "#### EXECUTE OS COMANDOS ABAIXO, USE MAIS CELULAS SE NECESSARIO\n",
        "\n",
        "cluster = km.labels_\n",
        "df['cluster'] = cluster"
      ]
    },
    {
      "cell_type": "code",
      "execution_count": 8,
      "metadata": {
        "colab": {
          "base_uri": "https://localhost:8080/"
        },
        "id": "FgassiQTSzfQ",
        "outputId": "58c5d271-d7b3-40c6-acfe-137f734d53e5"
      },
      "outputs": [
        {
          "output_type": "stream",
          "name": "stdout",
          "text": [
            "Total de observações do cluster 1: 210\n",
            " \n",
            "Total de observações do cluster 2: 13\n",
            " \n",
            "Total de observações do cluster 3: 92\n",
            " \n",
            "Total de observações do cluster 4: 125\n",
            " \n",
            "          Channel    Region         Fresh          Milk       Grocery  \\\n",
            "cluster                                                                 \n",
            "0        1.004762  3.000000  13423.571429   3172.000000   3746.371429   \n",
            "1        1.846154  2.615385  25770.769231  35160.384615  41977.384615   \n",
            "2        1.054348  1.315217  12407.130435   3401.771739   4234.130435   \n",
            "3        2.000000  2.672000   7877.640000   8913.512000  14212.624000   \n",
            "\n",
            "              Frozen  Detergents_Paper   Delicassen  \n",
            "cluster                                              \n",
            "0        3427.100000        768.219048  1267.142857  \n",
            "1        6844.538462      19867.384615  7880.307692  \n",
            "2        4082.282609        864.739130  1198.402174  \n",
            "3        1339.280000       6149.592000  1537.168000  \n"
          ]
        }
      ],
      "source": [
        "#### VALE 0.5 pontos\n",
        "# Substitua __ pelos valores solicitados\n",
        "#print('Total de observações do cluster 1: {}'.format('__'))\n",
        "#print('Total de observações do cluster 2: {}'.format('__'))\n",
        "#print('Total de observações do cluster 3: {}'.format('__'))\n",
        "# copie a linha de cima, alterando o cluster e preenchendo o total\n",
        "\n",
        "# Decidi fazer um pouquinho diferente para apresentar os dados, obtendo o mesmo resultado.\n",
        "for c in range(4):\n",
        "    observacoes = df[df['cluster'] == c][:]\n",
        "    print('Total de observações do cluster {}: {}'.format(c+1, len(observacoes)))\n",
        "    print(' ')\n",
        "print(df.groupby(['cluster']).mean()) # Usei para analisar qual cluster escolher"
      ]
    },
    {
      "cell_type": "markdown",
      "metadata": {
        "id": "ECFGW-U9SzfR"
      },
      "source": [
        "# Exercicio 2. (4.0 pontos)\n",
        "\n",
        "Escolha dois clusters e separe os dados em dois subconjuntos, chamando-os de clusterA e clusterB."
      ]
    },
    {
      "cell_type": "code",
      "execution_count": 9,
      "metadata": {
        "id": "rNiDGanlSzfR"
      },
      "outputs": [],
      "source": [
        "#### VALE 1.0 ponto\n",
        "#### EXECUTE OS COMANDOS ABAIXO, USE MAIS CELULAS SE NECESSARIO\n",
        "\n",
        "# Escolhi o cluster 1 e 2, motivado pela curiosidade em entender a relação entre o número de observações e a média dos produtos.\n",
        "clusterA = df[y_pred==0]\n",
        "clusterB = df[y_pred==1]"
      ]
    },
    {
      "cell_type": "code",
      "source": [
        "# Optei por fazer um dendograma pra visualizar melhor a situação...\n",
        "\n",
        "sns.set_style('darkgrid')\n",
        "plt.figure(figsize = [14,10])\n",
        "ax = hierarchy.dendrogram(hierarchy.linkage(X_std[y_pred==0], method='ward'))\n",
        "plt.show()"
      ],
      "metadata": {
        "colab": {
          "base_uri": "https://localhost:8080/",
          "height": 591
        },
        "id": "QZMKnvOsUSOg",
        "outputId": "0710ff87-e574-43ca-8b85-3859d6f1fed7"
      },
      "execution_count": 11,
      "outputs": [
        {
          "output_type": "display_data",
          "data": {
            "text/plain": [
              "<Figure size 1008x720 with 1 Axes>"
            ],
            "image/png": "[encoded data removed]"
          },
          "metadata": {}
        }
      ]
    },
    {
      "cell_type": "code",
      "source": [
        "sns.set_style('darkgrid')\n",
        "plt.figure(figsize = [14,10])\n",
        "ax = hierarchy.dendrogram(hierarchy.linkage(X_std[y_pred==1], method='ward'))\n",
        "plt.show()"
      ],
      "metadata": {
        "colab": {
          "base_uri": "https://localhost:8080/",
          "height": 595
        },
        "id": "GDcvJ4cRUT5H",
        "outputId": "298c894c-ef82-4a17-8d9d-fb41fd660af4"
      },
      "execution_count": 12,
      "outputs": [
        {
          "output_type": "display_data",
          "data": {
            "text/plain": [
              "<Figure size 1008x720 with 1 Axes>"
            ],
            "image/png": "[encoded data removed]"
          },
          "metadata": {}
        }
      ]
    },
    {
      "cell_type": "markdown",
      "metadata": {
        "id": "4-U6hkvVSzfR"
      },
      "source": [
        "Utilizaremos a função **.describe()** para obtermos as medidas de média, desvio padrão, valor minimo e valor máximo dos subconjuntos clusterA e clusterB"
      ]
    },
    {
      "cell_type": "code",
      "execution_count": 10,
      "metadata": {
        "colab": {
          "base_uri": "https://localhost:8080/",
          "height": 300
        },
        "id": "L9wm2YHvSzfR",
        "outputId": "1994758a-0c55-4c66-bf97-672f586d7674"
      },
      "outputs": [
        {
          "output_type": "execute_result",
          "data": {
            "text/plain": [
              "          Channel  Region         Fresh          Milk       Grocery  \\\n",
              "count  210.000000   210.0    210.000000    210.000000    210.000000   \n",
              "mean     1.004762     3.0  13423.571429   3172.000000   3746.371429   \n",
              "std      0.069007     0.0  13143.314682   3036.782309   3273.984301   \n",
              "min      1.000000     3.0      3.000000     55.000000      3.000000   \n",
              "25%      1.000000     3.0   3611.750000   1184.750000   1665.000000   \n",
              "50%      1.000000     3.0   9607.000000   2232.000000   2625.500000   \n",
              "75%      1.000000     3.0  18684.000000   4029.500000   4871.750000   \n",
              "max      2.000000     3.0  76237.000000  21858.000000  21042.000000   \n",
              "\n",
              "             Frozen  Detergents_Paper    Delicassen  cluster  \n",
              "count    210.000000        210.000000    210.000000    210.0  \n",
              "mean    3427.100000        768.219048   1267.142857      0.0  \n",
              "std     4320.421149       1063.684703   1695.110906      0.0  \n",
              "min       25.000000          3.000000      3.000000      0.0  \n",
              "25%      779.000000        175.250000    378.250000      0.0  \n",
              "50%     1870.500000        380.000000    821.000000      0.0  \n",
              "75%     4478.500000        940.500000   1556.250000      0.0  \n",
              "max    35009.000000       6907.000000  14472.000000      0.0  "
            ],
            "text/html": [
              "\n",
              "  <div id=\"df-37e9e126-186a-4f91-8299-ec31c99a0daf\">\n",
              "    <div class=\"colab-df-container\">\n",
              "      <div>\n",
              "<style scoped>\n",
              "    .dataframe tbody tr th:only-of-type {\n",
              "        vertical-align: middle;\n",
              "    }\n",
              "\n",
              "    .dataframe tbody tr th {\n",
              "        vertical-align: top;\n",
              "    }\n",
              "\n",
              "    .dataframe thead th {\n",
              "        text-align: right;\n",
              "    }\n",
              "</style>\n",
              "<table border=\"1\" class=\"dataframe\">\n",
              "  <thead>\n",
              "    <tr style=\"text-align: right;\">\n",
              "      <th></th>\n",
              "      <th>Channel</th>\n",
              "      <th>Region</th>\n",
              "      <th>Fresh</th>\n",
              "      <th>Milk</th>\n",
              "      <th>Grocery</th>\n",
              "      <th>Frozen</th>\n",
              "      <th>Detergents_Paper</th>\n",
              "      <th>Delicassen</th>\n",
              "      <th>cluster</th>\n",
              "    </tr>\n",
              "  </thead>\n",
              "  <tbody>\n",
              "    <tr>\n",
              "      <th>count</th>\n",
              "      <td>210.000000</td>\n",
              "      <td>210.0</td>\n",
              "      <td>210.000000</td>\n",
              "      <td>210.000000</td>\n",
              "      <td>210.000000</td>\n",
              "      <td>210.000000</td>\n",
              "      <td>210.000000</td>\n",
              "      <td>210.000000</td>\n",
              "      <td>210.0</td>\n",
              "    </tr>\n",
              "    <tr>\n",
              "      <th>mean</th>\n",
              "      <td>1.004762</td>\n",
              "      <td>3.0</td>\n",
              "      <td>13423.571429</td>\n",
              "      <td>3172.000000</td>\n",
              "      <td>3746.371429</td>\n",
              "      <td>3427.100000</td>\n",
              "      <td>768.219048</td>\n",
              "      <td>1267.142857</td>\n",
              "      <td>0.0</td>\n",
              "    </tr>\n",
              "    <tr>\n",
              "      <th>std</th>\n",
              "      <td>0.069007</td>\n",
              "      <td>0.0</td>\n",
              "      <td>13143.314682</td>\n",
              "      <td>3036.782309</td>\n",
              "      <td>3273.984301</td>\n",
              "      <td>4320.421149</td>\n",
              "      <td>1063.684703</td>\n",
              "      <td>1695.110906</td>\n",
              "      <td>0.0</td>\n",
              "    </tr>\n",
              "    <tr>\n",
              "      <th>min</th>\n",
              "      <td>1.000000</td>\n",
              "      <td>3.0</td>\n",
              "      <td>3.000000</td>\n",
              "      <td>55.000000</td>\n",
              "      <td>3.000000</td>\n",
              "      <td>25.000000</td>\n",
              "      <td>3.000000</td>\n",
              "      <td>3.000000</td>\n",
              "      <td>0.0</td>\n",
              "    </tr>\n",
              "    <tr>\n",
              "      <th>25%</th>\n",
              "      <td>1.000000</td>\n",
              "      <td>3.0</td>\n",
              "      <td>3611.750000</td>\n",
              "      <td>1184.750000</td>\n",
              "      <td>1665.000000</td>\n",
              "      <td>779.000000</td>\n",
              "      <td>175.250000</td>\n",
              "      <td>378.250000</td>\n",
              "      <td>0.0</td>\n",
              "    </tr>\n",
              "    <tr>\n",
              "      <th>50%</th>\n",
              "      <td>1.000000</td>\n",
              "      <td>3.0</td>\n",
              "      <td>9607.000000</td>\n",
              "      <td>2232.000000</td>\n",
              "      <td>2625.500000</td>\n",
              "      <td>1870.500000</td>\n",
              "      <td>380.000000</td>\n",
              "      <td>821.000000</td>\n",
              "      <td>0.0</td>\n",
              "    </tr>\n",
              "    <tr>\n",
              "      <th>75%</th>\n",
              "      <td>1.000000</td>\n",
              "      <td>3.0</td>\n",
              "      <td>18684.000000</td>\n",
              "      <td>4029.500000</td>\n",
              "      <td>4871.750000</td>\n",
              "      <td>4478.500000</td>\n",
              "      <td>940.500000</td>\n",
              "      <td>1556.250000</td>\n",
              "      <td>0.0</td>\n",
              "    </tr>\n",
              "    <tr>\n",
              "      <th>max</th>\n",
              "      <td>2.000000</td>\n",
              "      <td>3.0</td>\n",
              "      <td>76237.000000</td>\n",
              "      <td>21858.000000</td>\n",
              "      <td>21042.000000</td>\n",
              "      <td>35009.000000</td>\n",
              "      <td>6907.000000</td>\n",
              "      <td>14472.000000</td>\n",
              "      <td>0.0</td>\n",
              "    </tr>\n",
              "  </tbody>\n",
              "</table>\n",
              "</div>\n",
              "      <button class=\"colab-df-convert\" onclick=\"convertToInteractive('df-37e9e126-186a-4f91-8299-ec31c99a0daf')\"\n",
              "              title=\"Convert this dataframe to an interactive table.\"\n",
              "              style=\"display:none;\">\n",
              "        \n",
              "  <svg xmlns=\"http://www.w3.org/2000/svg\" height=\"24px\"viewBox=\"0 0 24 24\"\n",
              "       width=\"24px\">\n",
              "    <path d=\"M0 0h24v24H0V0z\" fill=\"none\"/>\n",
              "    <path d=\"M18.56 5.44l.94 2.06.94-2.06 2.06-.94-2.06-.94-.94-2.06-.94 2.06-2.06.94zm-11 1L8.5 8.5l.94-2.06 2.06-.94-2.06-.94L8.5 2.5l-.94 2.06-2.06.94zm10 10l.94 2.06.94-2.06 2.06-.94-2.06-.94-.94-2.06-.94 2.06-2.06.94z\"/><path d=\"M17.41 7.96l-1.37-1.37c-.4-.4-.92-.59-1.43-.59-.52 0-1.04.2-1.43.59L10.3 9.45l-7.72 7.72c-.78.78-.78 2.05 0 2.83L4 21.41c.39.39.9.59 1.41.59.51 0 1.02-.2 1.41-.59l7.78-7.78 2.81-2.81c.8-.78.8-2.07 0-2.86zM5.41 20L4 18.59l7.72-7.72 1.47 1.35L5.41 20z\"/>\n",
              "  </svg>\n",
              "      </button>\n",
              "      \n",
              "  <style>\n",
              "    .colab-df-container {\n",
              "      display:flex;\n",
              "      flex-wrap:wrap;\n",
              "      gap: 12px;\n",
              "    }\n",
              "\n",
              "    .colab-df-convert {\n",
              "      background-color: #E8F0FE;\n",
              "      border: none;\n",
              "      border-radius: 50%;\n",
              "      cursor: pointer;\n",
              "      display: none;\n",
              "      fill: #1967D2;\n",
              "      height: 32px;\n",
              "      padding: 0 0 0 0;\n",
              "      width: 32px;\n",
              "    }\n",
              "\n",
              "    .colab-df-convert:hover {\n",
              "      background-color: #E2EBFA;\n",
              "      box-shadow: 0px 1px 2px rgba(60, 64, 67, 0.3), 0px 1px 3px 1px rgba(60, 64, 67, 0.15);\n",
              "      fill: #174EA6;\n",
              "    }\n",
              "\n",
              "    [theme=dark] .colab-df-convert {\n",
              "      background-color: #3B4455;\n",
              "      fill: #D2E3FC;\n",
              "    }\n",
              "\n",
              "    [theme=dark] .colab-df-convert:hover {\n",
              "      background-color: #434B5C;\n",
              "      box-shadow: 0px 1px 3px 1px rgba(0, 0, 0, 0.15);\n",
              "      filter: drop-shadow(0px 1px 2px rgba(0, 0, 0, 0.3));\n",
              "      fill: #FFFFFF;\n",
              "    }\n",
              "  </style>\n",
              "\n",
              "      <script>\n",
              "        const buttonEl =\n",
              "          document.querySelector('#df-37e9e126-186a-4f91-8299-ec31c99a0daf button.colab-df-convert');\n",
              "        buttonEl.style.display =\n",
              "          google.colab.kernel.accessAllowed ? 'block' : 'none';\n",
              "\n",
              "        async function convertToInteractive(key) {\n",
              "          const element = document.querySelector('#df-37e9e126-186a-4f91-8299-ec31c99a0daf');\n",
              "          const dataTable =\n",
              "            await google.colab.kernel.invokeFunction('convertToInteractive',\n",
              "                                                     [key], {});\n",
              "          if (!dataTable) return;\n",
              "\n",
              "          const docLinkHtml = 'Like what you see? Visit the ' +\n",
              "            '<a target=\"_blank\" href=https://colab.research.google.com/notebooks/data_table.ipynb>data table notebook</a>'\n",
              "            + ' to learn more about interactive tables.';\n",
              "          element.innerHTML = '';\n",
              "          dataTable['output_type'] = 'display_data';\n",
              "          await google.colab.output.renderOutput(dataTable, element);\n",
              "          const docLink = document.createElement('div');\n",
              "          docLink.innerHTML = docLinkHtml;\n",
              "          element.appendChild(docLink);\n",
              "        }\n",
              "      </script>\n",
              "    </div>\n",
              "  </div>\n",
              "  "
            ]
          },
          "metadata": {},
          "execution_count": 10
        }
      ],
      "source": [
        "#### VALE 1.0 ponto\n",
        "#### EXECUTE O COMANDO ABAIXO PARA clusterA\n",
        "\n",
        "clusterA.describe()"
      ]
    },
    {
      "cell_type": "code",
      "execution_count": 13,
      "metadata": {
        "colab": {
          "base_uri": "https://localhost:8080/",
          "height": 300
        },
        "id": "Ksb8WKOTSzfS",
        "outputId": "a397aa0c-a581-47e3-8a11-822a7827babe"
      },
      "outputs": [
        {
          "output_type": "execute_result",
          "data": {
            "text/plain": [
              "         Channel     Region          Fresh          Milk       Grocery  \\\n",
              "count  13.000000  13.000000      13.000000     13.000000     13.000000   \n",
              "mean    1.846154   2.615385   25770.769231  35160.384615  41977.384615   \n",
              "std     0.375534   0.767948   29454.746986  16997.231895  21744.765824   \n",
              "min     1.000000   1.000000      85.000000   4980.000000  18148.000000   \n",
              "25%     2.000000   3.000000    8565.000000  27472.000000  26866.000000   \n",
              "50%     2.000000   3.000000   16117.000000  29892.000000  33586.000000   \n",
              "75%     2.000000   3.000000   35942.000000  43950.000000  55571.000000   \n",
              "max     2.000000   3.000000  112151.000000  73498.000000  92780.000000   \n",
              "\n",
              "             Frozen  Detergents_Paper    Delicassen  cluster  \n",
              "count     13.000000         13.000000     13.000000     13.0  \n",
              "mean    6844.538462      19867.384615   7880.307692      1.0  \n",
              "std     9962.816466      11945.861812  12776.199522      0.0  \n",
              "min       36.000000        239.000000    903.000000      1.0  \n",
              "25%     1026.000000      17740.000000   1423.000000      1.0  \n",
              "50%     3254.000000      19410.000000   2944.000000      1.0  \n",
              "75%     6746.000000      24231.000000   6465.000000      1.0  \n",
              "max    36534.000000      40827.000000  47943.000000      1.0  "
            ],
            "text/html": [
              "\n",
              "  <div id=\"df-cc619e92-408e-4625-986d-fd38f1d4ee28\">\n",
              "    <div class=\"colab-df-container\">\n",
              "      <div>\n",
              "<style scoped>\n",
              "    .dataframe tbody tr th:only-of-type {\n",
              "        vertical-align: middle;\n",
              "    }\n",
              "\n",
              "    .dataframe tbody tr th {\n",
              "        vertical-align: top;\n",
              "    }\n",
              "\n",
              "    .dataframe thead th {\n",
              "        text-align: right;\n",
              "    }\n",
              "</style>\n",
              "<table border=\"1\" class=\"dataframe\">\n",
              "  <thead>\n",
              "    <tr style=\"text-align: right;\">\n",
              "      <th></th>\n",
              "      <th>Channel</th>\n",
              "      <th>Region</th>\n",
              "      <th>Fresh</th>\n",
              "      <th>Milk</th>\n",
              "      <th>Grocery</th>\n",
              "      <th>Frozen</th>\n",
              "      <th>Detergents_Paper</th>\n",
              "      <th>Delicassen</th>\n",
              "      <th>cluster</th>\n",
              "    </tr>\n",
              "  </thead>\n",
              "  <tbody>\n",
              "    <tr>\n",
              "      <th>count</th>\n",
              "      <td>13.000000</td>\n",
              "      <td>13.000000</td>\n",
              "      <td>13.000000</td>\n",
              "      <td>13.000000</td>\n",
              "      <td>13.000000</td>\n",
              "      <td>13.000000</td>\n",
              "      <td>13.000000</td>\n",
              "      <td>13.000000</td>\n",
              "      <td>13.0</td>\n",
              "    </tr>\n",
              "    <tr>\n",
              "      <th>mean</th>\n",
              "      <td>1.846154</td>\n",
              "      <td>2.615385</td>\n",
              "      <td>25770.769231</td>\n",
              "      <td>35160.384615</td>\n",
              "      <td>41977.384615</td>\n",
              "      <td>6844.538462</td>\n",
              "      <td>19867.384615</td>\n",
              "      <td>7880.307692</td>\n",
              "      <td>1.0</td>\n",
              "    </tr>\n",
              "    <tr>\n",
              "      <th>std</th>\n",
              "      <td>0.375534</td>\n",
              "      <td>0.767948</td>\n",
              "      <td>29454.746986</td>\n",
              "      <td>16997.231895</td>\n",
              "      <td>21744.765824</td>\n",
              "      <td>9962.816466</td>\n",
              "      <td>11945.861812</td>\n",
              "      <td>12776.199522</td>\n",
              "      <td>0.0</td>\n",
              "    </tr>\n",
              "    <tr>\n",
              "      <th>min</th>\n",
              "      <td>1.000000</td>\n",
              "      <td>1.000000</td>\n",
              "      <td>85.000000</td>\n",
              "      <td>4980.000000</td>\n",
              "      <td>18148.000000</td>\n",
              "      <td>36.000000</td>\n",
              "      <td>239.000000</td>\n",
              "      <td>903.000000</td>\n",
              "      <td>1.0</td>\n",
              "    </tr>\n",
              "    <tr>\n",
              "      <th>25%</th>\n",
              "      <td>2.000000</td>\n",
              "      <td>3.000000</td>\n",
              "      <td>8565.000000</td>\n",
              "      <td>27472.000000</td>\n",
              "      <td>26866.000000</td>\n",
              "      <td>1026.000000</td>\n",
              "      <td>17740.000000</td>\n",
              "      <td>1423.000000</td>\n",
              "      <td>1.0</td>\n",
              "    </tr>\n",
              "    <tr>\n",
              "      <th>50%</th>\n",
              "      <td>2.000000</td>\n",
              "      <td>3.000000</td>\n",
              "      <td>16117.000000</td>\n",
              "      <td>29892.000000</td>\n",
              "      <td>33586.000000</td>\n",
              "      <td>3254.000000</td>\n",
              "      <td>19410.000000</td>\n",
              "      <td>2944.000000</td>\n",
              "      <td>1.0</td>\n",
              "    </tr>\n",
              "    <tr>\n",
              "      <th>75%</th>\n",
              "      <td>2.000000</td>\n",
              "      <td>3.000000</td>\n",
              "      <td>35942.000000</td>\n",
              "      <td>43950.000000</td>\n",
              "      <td>55571.000000</td>\n",
              "      <td>6746.000000</td>\n",
              "      <td>24231.000000</td>\n",
              "      <td>6465.000000</td>\n",
              "      <td>1.0</td>\n",
              "    </tr>\n",
              "    <tr>\n",
              "      <th>max</th>\n",
              "      <td>2.000000</td>\n",
              "      <td>3.000000</td>\n",
              "      <td>112151.000000</td>\n",
              "      <td>73498.000000</td>\n",
              "      <td>92780.000000</td>\n",
              "      <td>36534.000000</td>\n",
              "      <td>40827.000000</td>\n",
              "      <td>47943.000000</td>\n",
              "      <td>1.0</td>\n",
              "    </tr>\n",
              "  </tbody>\n",
              "</table>\n",
              "</div>\n",
              "      <button class=\"colab-df-convert\" onclick=\"convertToInteractive('df-cc619e92-408e-4625-986d-fd38f1d4ee28')\"\n",
              "              title=\"Convert this dataframe to an interactive table.\"\n",
              "              style=\"display:none;\">\n",
              "        \n",
              "  <svg xmlns=\"http://www.w3.org/2000/svg\" height=\"24px\"viewBox=\"0 0 24 24\"\n",
              "       width=\"24px\">\n",
              "    <path d=\"M0 0h24v24H0V0z\" fill=\"none\"/>\n",
              "    <path d=\"M18.56 5.44l.94 2.06.94-2.06 2.06-.94-2.06-.94-.94-2.06-.94 2.06-2.06.94zm-11 1L8.5 8.5l.94-2.06 2.06-.94-2.06-.94L8.5 2.5l-.94 2.06-2.06.94zm10 10l.94 2.06.94-2.06 2.06-.94-2.06-.94-.94-2.06-.94 2.06-2.06.94z\"/><path d=\"M17.41 7.96l-1.37-1.37c-.4-.4-.92-.59-1.43-.59-.52 0-1.04.2-1.43.59L10.3 9.45l-7.72 7.72c-.78.78-.78 2.05 0 2.83L4 21.41c.39.39.9.59 1.41.59.51 0 1.02-.2 1.41-.59l7.78-7.78 2.81-2.81c.8-.78.8-2.07 0-2.86zM5.41 20L4 18.59l7.72-7.72 1.47 1.35L5.41 20z\"/>\n",
              "  </svg>\n",
              "      </button>\n",
              "      \n",
              "  <style>\n",
              "    .colab-df-container {\n",
              "      display:flex;\n",
              "      flex-wrap:wrap;\n",
              "      gap: 12px;\n",
              "    }\n",
              "\n",
              "    .colab-df-convert {\n",
              "      background-color: #E8F0FE;\n",
              "      border: none;\n",
              "      border-radius: 50%;\n",
              "      cursor: pointer;\n",
              "      display: none;\n",
              "      fill: #1967D2;\n",
              "      height: 32px;\n",
              "      padding: 0 0 0 0;\n",
              "      width: 32px;\n",
              "    }\n",
              "\n",
              "    .colab-df-convert:hover {\n",
              "      background-color: #E2EBFA;\n",
              "      box-shadow: 0px 1px 2px rgba(60, 64, 67, 0.3), 0px 1px 3px 1px rgba(60, 64, 67, 0.15);\n",
              "      fill: #174EA6;\n",
              "    }\n",
              "\n",
              "    [theme=dark] .colab-df-convert {\n",
              "      background-color: #3B4455;\n",
              "      fill: #D2E3FC;\n",
              "    }\n",
              "\n",
              "    [theme=dark] .colab-df-convert:hover {\n",
              "      background-color: #434B5C;\n",
              "      box-shadow: 0px 1px 3px 1px rgba(0, 0, 0, 0.15);\n",
              "      filter: drop-shadow(0px 1px 2px rgba(0, 0, 0, 0.3));\n",
              "      fill: #FFFFFF;\n",
              "    }\n",
              "  </style>\n",
              "\n",
              "      <script>\n",
              "        const buttonEl =\n",
              "          document.querySelector('#df-cc619e92-408e-4625-986d-fd38f1d4ee28 button.colab-df-convert');\n",
              "        buttonEl.style.display =\n",
              "          google.colab.kernel.accessAllowed ? 'block' : 'none';\n",
              "\n",
              "        async function convertToInteractive(key) {\n",
              "          const element = document.querySelector('#df-cc619e92-408e-4625-986d-fd38f1d4ee28');\n",
              "          const dataTable =\n",
              "            await google.colab.kernel.invokeFunction('convertToInteractive',\n",
              "                                                     [key], {});\n",
              "          if (!dataTable) return;\n",
              "\n",
              "          const docLinkHtml = 'Like what you see? Visit the ' +\n",
              "            '<a target=\"_blank\" href=https://colab.research.google.com/notebooks/data_table.ipynb>data table notebook</a>'\n",
              "            + ' to learn more about interactive tables.';\n",
              "          element.innerHTML = '';\n",
              "          dataTable['output_type'] = 'display_data';\n",
              "          await google.colab.output.renderOutput(dataTable, element);\n",
              "          const docLink = document.createElement('div');\n",
              "          docLink.innerHTML = docLinkHtml;\n",
              "          element.appendChild(docLink);\n",
              "        }\n",
              "      </script>\n",
              "    </div>\n",
              "  </div>\n",
              "  "
            ]
          },
          "metadata": {},
          "execution_count": 13
        }
      ],
      "source": [
        "#### VALE 1.0 ponto\n",
        "#### EXECUTE O COMANDO ABAIXO PARA clusterB\n",
        "\n",
        "clusterB.describe()"
      ]
    },
    {
      "cell_type": "markdown",
      "metadata": {
        "id": "lwhmQoMdSzfS"
      },
      "source": [
        "Comparando as médias, valores minimos e máximos obtidos, há diferença entre o subconjunto clusterA e clusterB?"
      ]
    },
    {
      "cell_type": "markdown",
      "metadata": {
        "id": "zRYpWOlESzfS"
      },
      "source": [
        "**RESPOSTA** (VALE 0.5 pontos): (responda aqui, dê dois cliques para editar)\n",
        "\n",
        "Há diferença, no cluster 2, apesar de haver apenas 13 observações, os números são muito maiores que no cluster 1, que tem 210 observações. Indo pela intuição, o resultado deveria ser o contrário.\n",
        "Uma diferença bem presente é o canal, onde o cluster 1 tem uma alta tendência para o canal 1 (Horeca) e o Cluster 2 para o canal 2 (Varejo)"
      ]
    },
    {
      "cell_type": "markdown",
      "metadata": {
        "id": "rkIa3q-zSzfS"
      },
      "source": [
        "Sendo dois agrupamentos distintos, qual rotulo poderiamos utilizar para identifica-los? Justifique a sua resposta"
      ]
    },
    {
      "cell_type": "markdown",
      "metadata": {
        "id": "g9E4YHpuSzfS"
      },
      "source": [
        "**RESPOSTA** (VALE 0.5 pontos): (responda aqui, dê dois cliques para editar)\n",
        "\n",
        "Cluster 1: Padrão de consumo baixo (ou talvez Padrão de consumo Horeca). Visto que nesse cluster temos muitas observações e números baixos de consumo e a maioria destas são oriundas da Horeca.\n",
        "\n",
        "Cluster 2: Padrão de consumo elevado (ou talvez Padrão de consumo Varejo). Visto que nesse cluster temos apenas 13 observações, mas que superam os números do cluster 1, além de serem predominantementes oriundos do Varejo."
      ]
    },
    {
      "cell_type": "markdown",
      "metadata": {
        "id": "wFPyISiLSzfS"
      },
      "source": [
        "# Exercicio 3. (3 pontos)\n",
        "\n",
        "Responda, quais são as vantagens e desvantagens do algoritmo K-Médias?"
      ]
    },
    {
      "cell_type": "markdown",
      "metadata": {
        "id": "vAbqboeJSzfT"
      },
      "source": [
        "**RESPOSTA** (VALE 1.0 ponto): (responda aqui, dê dois cliques para editar)\n",
        "\n",
        "A vantagem principal é que é relativamente fácil criar grupos em comum que permitem uma boa visualização e interpretação dos dados. Outras vantagens incluem a relativa simplicidade em implementar, a facilidade de escolher a quantidade de clusters e que todo dado pertence à um grupo.\n",
        "\n",
        "Sobre as desvantagens, ele sempre vai forçar os dados a pertencer à algum grupo, o que pode ser um problema se o número de clusters não estiver adequado, é sensível aos outliers e é necessário uma boa escolha no número de clusters."
      ]
    },
    {
      "cell_type": "markdown",
      "metadata": {
        "id": "DAOmNBsMSzfT"
      },
      "source": [
        "Quantos elementos há em cada clusters se o numero de clusters for igual ao total de observações?"
      ]
    },
    {
      "cell_type": "markdown",
      "metadata": {
        "id": "NNz9i8HBSzfT"
      },
      "source": [
        "**RESPOSTA** (VALE 1.0 ponto): (responda aqui, dê \n",
        "\n",
        "dois cliques para editar)\n",
        "\n",
        "Tomando como exemplo um número de clusters igual à 10 e o número de observações do dataset igual à 10, logicamente haverá penas 1 observação em cada cluster."
      ]
    },
    {
      "cell_type": "markdown",
      "metadata": {
        "id": "KNHF1-OnSzfT"
      },
      "source": [
        "Se o parametro **k** for igual a 1, quantos clusters teremos e quantos elementos há em cada cluster?"
      ]
    },
    {
      "cell_type": "markdown",
      "metadata": {
        "id": "sU_eBoGySzfT"
      },
      "source": [
        "**RESPOSTA** (VALE 1.0 ponto): (responda aqui, dê dois cliques para editar)\n",
        "\n",
        "Se K = 1, teremos apenas um cluster e todos os elementos pertencerão à este cluster. No caso deste dataset, seriam 440 observações."
      ]
    }
  ],
  "metadata": {
    "kernelspec": {
      "display_name": "Python 3",
      "language": "python",
      "name": "python3"
    },
    "language_info": {
      "codemirror_mode": {
        "name": "ipython",
        "version": 3
      },
      "file_extension": ".py",
      "mimetype": "text/x-python",
      "name": "python",
      "nbconvert_exporter": "python",
      "pygments_lexer": "ipython3",
      "version": "3.8.3"
    },
    "colab": {
      "name": "modulo2_projeto3.ipynb",
      "provenance": [],
      "include_colab_link": true
    }
  },
  "nbformat": 4,
  "nbformat_minor": 0
}